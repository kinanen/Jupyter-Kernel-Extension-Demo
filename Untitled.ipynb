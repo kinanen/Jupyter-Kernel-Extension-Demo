{
 "cells": [
  {
   "cell_type": "code",
   "execution_count": 1,
   "id": "99dcd0f2-dc77-450d-b6b1-be3bd10e6c6d",
   "metadata": {},
   "outputs": [
    {
     "name": "stdout",
     "output_type": "stream",
     "text": [
      "print('eggke')\n"
     ]
    }
   ],
   "source": [
    "print('eggke')\n"
   ]
  },
  {
   "cell_type": "code",
   "execution_count": null,
   "id": "bb7b9dd5-0a93-48e9-a69b-90ffd7744fe4",
   "metadata": {},
   "outputs": [],
   "source": []
  }
 ],
 "metadata": {
  "kernelspec": {
   "display_name": "Echo Kernel",
   "language": "echo",
   "name": "echo"
  },
  "language_info": {
   "file_extension": ".txt",
   "mimetype": "text/plain",
   "name": "echo"
  }
 },
 "nbformat": 4,
 "nbformat_minor": 5
}
