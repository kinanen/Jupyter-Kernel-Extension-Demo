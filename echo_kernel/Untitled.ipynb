{
 "cells": [
  {
   "cell_type": "code",
   "execution_count": 1,
   "id": "4bdb441c-0f84-421d-9e25-3057718302be",
   "metadata": {},
   "outputs": [
    {
     "name": "stdout",
     "output_type": "stream",
     "text": [
      "lol\n"
     ]
    }
   ],
   "source": [
    "lol\n"
   ]
  },
  {
   "cell_type": "code",
   "execution_count": null,
   "id": "070109de-68bc-4234-a7a7-a47ddeb0c936",
   "metadata": {},
   "outputs": [],
   "source": []
  }
 ],
 "metadata": {
  "kernelspec": {
   "display_name": "Echo Kernel",
   "language": "echo",
   "name": "echo"
  },
  "language_info": {
   "file_extension": ".txt",
   "mimetype": "text/plain",
   "name": "echo"
  }
 },
 "nbformat": 4,
 "nbformat_minor": 5
}
