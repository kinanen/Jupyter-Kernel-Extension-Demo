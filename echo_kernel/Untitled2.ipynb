{
 "cells": [
  {
   "cell_type": "code",
   "execution_count": 1,
   "id": "823989b1-c735-4789-ab60-f79a9b3d52ba",
   "metadata": {},
   "outputs": [
    {
     "name": "stdout",
     "output_type": "stream",
     "text": [
      "pii\n"
     ]
    }
   ],
   "source": [
    "pii\n"
   ]
  },
  {
   "cell_type": "code",
   "execution_count": null,
   "id": "22a742c7-732e-4a2c-b682-b2a5615e68cf",
   "metadata": {},
   "outputs": [],
   "source": []
  }
 ],
 "metadata": {
  "kernelspec": {
   "display_name": "Echo Kernel",
   "language": "echo",
   "name": "echo"
  },
  "language_info": {
   "file_extension": ".txt",
   "mimetype": "text/plain",
   "name": "echo"
  }
 },
 "nbformat": 4,
 "nbformat_minor": 5
}
